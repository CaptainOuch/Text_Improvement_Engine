{
  "nbformat": 4,
  "nbformat_minor": 0,
  "metadata": {
    "colab": {
      "provenance": [],
      "toc_visible": true,
      "authorship_tag": "ABX9TyOVhbbvlf0LmRbiQz2ljLb1",
      "include_colab_link": true
    },
    "kernelspec": {
      "name": "python3",
      "display_name": "Python 3"
    },
    "language_info": {
      "name": "python"
    }
  },
  "cells": [
    {
      "cell_type": "markdown",
      "metadata": {
        "id": "view-in-github",
        "colab_type": "text"
      },
      "source": [
        "<a href=\"https://colab.research.google.com/github/CaptainOuch/Text_Improvement_Engine/blob/main/Text_Improvement_Engine.ipynb\" target=\"_parent\"><img src=\"https://colab.research.google.com/assets/colab-badge.svg\" alt=\"Open In Colab\"/></a>"
      ]
    },
    {
      "cell_type": "code",
      "source": [
        "!pip install openai"
      ],
      "metadata": {
        "colab": {
          "base_uri": "https://localhost:8080/"
        },
        "id": "-kDGYNaK9J5Y",
        "outputId": "250282cc-9e7d-42d6-c5cd-38e7fd79b489"
      },
      "execution_count": 145,
      "outputs": [
        {
          "output_type": "stream",
          "name": "stdout",
          "text": [
            "Requirement already satisfied: openai in /usr/local/lib/python3.10/dist-packages (0.28.1)\n",
            "Requirement already satisfied: requests>=2.20 in /usr/local/lib/python3.10/dist-packages (from openai) (2.31.0)\n",
            "Requirement already satisfied: tqdm in /usr/local/lib/python3.10/dist-packages (from openai) (4.66.1)\n",
            "Requirement already satisfied: aiohttp in /usr/local/lib/python3.10/dist-packages (from openai) (3.8.5)\n",
            "Requirement already satisfied: charset-normalizer<4,>=2 in /usr/local/lib/python3.10/dist-packages (from requests>=2.20->openai) (3.3.0)\n",
            "Requirement already satisfied: idna<4,>=2.5 in /usr/local/lib/python3.10/dist-packages (from requests>=2.20->openai) (3.4)\n",
            "Requirement already satisfied: urllib3<3,>=1.21.1 in /usr/local/lib/python3.10/dist-packages (from requests>=2.20->openai) (2.0.6)\n",
            "Requirement already satisfied: certifi>=2017.4.17 in /usr/local/lib/python3.10/dist-packages (from requests>=2.20->openai) (2023.7.22)\n",
            "Requirement already satisfied: attrs>=17.3.0 in /usr/local/lib/python3.10/dist-packages (from aiohttp->openai) (23.1.0)\n",
            "Requirement already satisfied: multidict<7.0,>=4.5 in /usr/local/lib/python3.10/dist-packages (from aiohttp->openai) (6.0.4)\n",
            "Requirement already satisfied: async-timeout<5.0,>=4.0.0a3 in /usr/local/lib/python3.10/dist-packages (from aiohttp->openai) (4.0.3)\n",
            "Requirement already satisfied: yarl<2.0,>=1.0 in /usr/local/lib/python3.10/dist-packages (from aiohttp->openai) (1.9.2)\n",
            "Requirement already satisfied: frozenlist>=1.1.1 in /usr/local/lib/python3.10/dist-packages (from aiohttp->openai) (1.4.0)\n",
            "Requirement already satisfied: aiosignal>=1.1.2 in /usr/local/lib/python3.10/dist-packages (from aiohttp->openai) (1.3.1)\n"
          ]
        }
      ]
    },
    {
      "cell_type": "code",
      "source": [
        "import openai"
      ],
      "metadata": {
        "id": "oYV2M-wADbW7"
      },
      "execution_count": 4,
      "outputs": []
    },
    {
      "cell_type": "code",
      "source": [
        "api_key = 'PasteYourKey'\n",
        "openai.api_key = api_key"
      ],
      "metadata": {
        "id": "t_rbuG02Dkbp"
      },
      "execution_count": 5,
      "outputs": []
    },
    {
      "cell_type": "code",
      "source": [
        "def split_text_into_word_pairs(text):\n",
        "    words = text.split()\n",
        "    word_pairs = []\n",
        "\n",
        "    for i in range(len(words) - 2):\n",
        "        pair = words[i] + ' ' + words[i + 1]\n",
        "        word_pairs.append(pair)\n",
        "\n",
        "        pair = words[i] + ' ' + words[i + 1] + ' ' + words[i + 2]\n",
        "        word_pairs.append(pair)\n",
        "\n",
        "    pair = words[len(words) - 1] + ' ' + words[len(words)]\n",
        "\n",
        "    word_pairs.append(pair)\n",
        "\n",
        "    return word_pairs\n",
        "\n",
        "input_text = \"Let's jump together friend!\"\n",
        "result = split_text_into_word_pairs(input_text)\n",
        "print(result)"
      ],
      "metadata": {
        "colab": {
          "base_uri": "https://localhost:8080/"
        },
        "id": "5JuBbwRR6vQq",
        "outputId": "a737ca6f-2d17-4b3b-c6d5-b339ff0d9e9b"
      },
      "execution_count": 87,
      "outputs": [
        {
          "output_type": "stream",
          "name": "stdout",
          "text": [
            "[\"Let's jump\", \"Let's jump together\", 'jump together', 'jump together friend!']\n"
          ]
        }
      ]
    },
    {
      "cell_type": "code",
      "source": [
        "def create_embedding(terms_list):\n",
        "    resp = openai.Embedding.create(\n",
        "      input=terms_list,\n",
        "      engine=\"text-similarity-curie-001\")\n",
        "\n",
        "    return resp"
      ],
      "metadata": {
        "id": "xWgicTq97wFJ"
      },
      "execution_count": 133,
      "outputs": []
    },
    {
      "cell_type": "code",
      "source": [
        "def remove_non_alphanumeric_chars(text):\n",
        "    cleaned_text = \"\"\n",
        "\n",
        "    # Проходим по каждому символу в исходном тексте\n",
        "    for char in text:\n",
        "        if char.isalnum() or char.isspace():\n",
        "            cleaned_text += char\n",
        "\n",
        "    return cleaned_text\n",
        "\n",
        "input_text = \"This is an example text with 123 numbers and special characters !@#\"\n",
        "cleaned_text = remove_non_alphanumeric_chars(input_text)\n",
        "print(cleaned_text)\n"
      ],
      "metadata": {
        "colab": {
          "base_uri": "https://localhost:8080/"
        },
        "id": "JFdK5LY6KIyC",
        "outputId": "bff6cd81-a60c-4f63-b1d9-cbc5e09264b4"
      },
      "execution_count": 15,
      "outputs": [
        {
          "output_type": "stream",
          "name": "stdout",
          "text": [
            "This is an example text with 123 numbers and special characters \n"
          ]
        }
      ]
    },
    {
      "cell_type": "code",
      "source": [
        "standardised_terms = [\n",
        "    \"Optimal performance\",\n",
        "    \"Utilise resources\",\n",
        "    \"Enhance productivity\",\n",
        "    \"Conduct an analysis\",\n",
        "    \"Maintain a high standard\",\n",
        "    \"Implement best practices\",\n",
        "    \"Ensure compliance\",\n",
        "    \"Streamline operations\",\n",
        "    \"Foster innovation\",\n",
        "    \"Drive growth\",\n",
        "    \"Leverage synergies\",\n",
        "    \"Demonstrate leadership\",\n",
        "    \"Exercise due diligence\",\n",
        "    \"Maximize stakeholder value\",\n",
        "    \"Prioritise tasks\",\n",
        "    \"Facilitate collaboration\",\n",
        "    \"Monitor performance metrics\",\n",
        "    \"Execute strategies\",\n",
        "    \"Gauge effectiveness\",\n",
        "    \"Champion change\"\n",
        "]"
      ],
      "metadata": {
        "id": "jhiWeyAUFJbn"
      },
      "execution_count": 92,
      "outputs": []
    },
    {
      "cell_type": "code",
      "source": [
        "terms_emb = create_embedding(standardised_terms)\n",
        "len(terms_emb['data'])"
      ],
      "metadata": {
        "colab": {
          "base_uri": "https://localhost:8080/"
        },
        "id": "KvAagcTXHV-t",
        "outputId": "a2cac523-2694-44d8-a633-3768626dcba8"
      },
      "execution_count": 134,
      "outputs": [
        {
          "output_type": "execute_result",
          "data": {
            "text/plain": [
              "20"
            ]
          },
          "metadata": {},
          "execution_count": 134
        }
      ]
    },
    {
      "cell_type": "code",
      "source": [
        "meeting_text = \"\"\"\n",
        "In today's meeting, we discussed a variety of issues affecting our department.\n",
        "The weather was unusually sunny, a pleasant backdrop to our serious discussions.\n",
        "We came to the consensus that we need to do better in terms of performance.\n",
        "Sally brought doughnuts, which lightened the mood.\n",
        "It's important to make good use of what we have at our disposal.\n",
        "During the coffee break, we talked about the upcoming company picnic.\n",
        "We should aim to be more efficient and look for ways to be more creative in our daily tasks.\n",
        "Growth is essential for our future, but equally important is building strong relationships with our team members.\n",
        "As a reminder, the annual staff survey is due next Friday.\n",
        "Lastly, we agreed that we must take time to look over our plans carefully and consider all angles before moving forward.\n",
        "On a side note, David mentioned that his cat is recovering well from surgery.\n",
        "\"\"\""
      ],
      "metadata": {
        "id": "_Olxe9VDFhYk"
      },
      "execution_count": 94,
      "outputs": []
    },
    {
      "cell_type": "code",
      "source": [
        "cleaned_text = remove_non_alphanumeric_chars(meeting_text)\n",
        "splitted_text = split_text_into_word_pairs(cleaned_text)\n",
        "print(splitted_text)"
      ],
      "metadata": {
        "colab": {
          "base_uri": "https://localhost:8080/"
        },
        "id": "OIJoSyY_JdNU",
        "outputId": "8ddcbdd1-758b-4acb-c6bd-f40b78e348c1"
      },
      "execution_count": 126,
      "outputs": [
        {
          "output_type": "stream",
          "name": "stdout",
          "text": [
            "['In todays', 'In todays meeting', 'todays meeting', 'todays meeting we', 'meeting we', 'meeting we discussed', 'we discussed', 'we discussed a', 'discussed a', 'discussed a variety', 'a variety', 'a variety of', 'variety of', 'variety of issues', 'of issues', 'of issues affecting', 'issues affecting', 'issues affecting our', 'affecting our', 'affecting our department', 'our department', 'our department The', 'department The', 'department The weather', 'The weather', 'The weather was', 'weather was', 'weather was unusually', 'was unusually', 'was unusually sunny', 'unusually sunny', 'unusually sunny a', 'sunny a', 'sunny a pleasant', 'a pleasant', 'a pleasant backdrop', 'pleasant backdrop', 'pleasant backdrop to', 'backdrop to', 'backdrop to our', 'to our', 'to our serious', 'our serious', 'our serious discussions', 'serious discussions', 'serious discussions We', 'discussions We', 'discussions We came', 'We came', 'We came to', 'came to', 'came to the', 'to the', 'to the consensus', 'the consensus', 'the consensus that', 'consensus that', 'consensus that we', 'that we', 'that we need', 'we need', 'we need to', 'need to', 'need to do', 'to do', 'to do better', 'do better', 'do better in', 'better in', 'better in terms', 'in terms', 'in terms of', 'terms of', 'terms of performance', 'of performance', 'of performance Sally', 'performance Sally', 'performance Sally brought', 'Sally brought', 'Sally brought doughnuts', 'brought doughnuts', 'brought doughnuts which', 'doughnuts which', 'doughnuts which lightened', 'which lightened', 'which lightened the', 'lightened the', 'lightened the mood', 'the mood', 'the mood Its', 'mood Its', 'mood Its important', 'Its important', 'Its important to', 'important to', 'important to make', 'to make', 'to make good', 'make good', 'make good use', 'good use', 'good use of', 'use of', 'use of what', 'of what', 'of what we', 'what we', 'what we have', 'we have', 'we have at', 'have at', 'have at our', 'at our', 'at our disposal', 'our disposal', 'our disposal During', 'disposal During', 'disposal During the', 'During the', 'During the coffee', 'the coffee', 'the coffee break', 'coffee break', 'coffee break we', 'break we', 'break we talked', 'we talked', 'we talked about', 'talked about', 'talked about the', 'about the', 'about the upcoming', 'the upcoming', 'the upcoming company', 'upcoming company', 'upcoming company picnic', 'company picnic', 'company picnic We', 'picnic We', 'picnic We should', 'We should', 'We should aim', 'should aim', 'should aim to', 'aim to', 'aim to be', 'to be', 'to be more', 'be more', 'be more efficient', 'more efficient', 'more efficient and', 'efficient and', 'efficient and look', 'and look', 'and look for', 'look for', 'look for ways', 'for ways', 'for ways to', 'ways to', 'ways to be', 'to be', 'to be more', 'be more', 'be more creative', 'more creative', 'more creative in', 'creative in', 'creative in our', 'in our', 'in our daily', 'our daily', 'our daily tasks', 'daily tasks', 'daily tasks Growth', 'tasks Growth', 'tasks Growth is', 'Growth is', 'Growth is essential', 'is essential', 'is essential for', 'essential for', 'essential for our', 'for our', 'for our future', 'our future', 'our future but', 'future but', 'future but equally', 'but equally', 'but equally important', 'equally important', 'equally important is', 'important is', 'important is building', 'is building', 'is building strong', 'building strong', 'building strong relationships', 'strong relationships', 'strong relationships with', 'relationships with', 'relationships with our', 'with our', 'with our team', 'our team', 'our team members', 'team members', 'team members As', 'members As', 'members As a', 'As a', 'As a reminder', 'a reminder', 'a reminder the', 'reminder the', 'reminder the annual', 'the annual', 'the annual staff', 'annual staff', 'annual staff survey', 'staff survey', 'staff survey is', 'survey is', 'survey is due', 'is due', 'is due next', 'due next', 'due next Friday', 'next Friday', 'next Friday Lastly', 'Friday Lastly', 'Friday Lastly we', 'Lastly we', 'Lastly we agreed', 'we agreed', 'we agreed that', 'agreed that', 'agreed that we', 'that we', 'that we must', 'we must', 'we must take', 'must take', 'must take time', 'take time', 'take time to', 'time to', 'time to look', 'to look', 'to look over', 'look over', 'look over our', 'over our', 'over our plans', 'our plans', 'our plans carefully', 'plans carefully', 'plans carefully and', 'carefully and', 'carefully and consider', 'and consider', 'and consider all', 'consider all', 'consider all angles', 'all angles', 'all angles before', 'angles before', 'angles before moving', 'before moving', 'before moving forward', 'moving forward', 'moving forward On', 'forward On', 'forward On a', 'On a', 'On a side', 'a side', 'a side note', 'side note', 'side note David', 'note David', 'note David mentioned', 'David mentioned', 'David mentioned that', 'mentioned that', 'mentioned that his', 'that his', 'that his cat', 'his cat', 'his cat is', 'cat is', 'cat is recovering', 'is recovering', 'is recovering well', 'recovering well', 'recovering well from', 'well from', 'well from surgery']\n"
          ]
        }
      ]
    },
    {
      "cell_type": "code",
      "source": [
        "text_pair_emb = create_embedding(splitted_text)\n",
        "len(text_pair_emb['data'])"
      ],
      "metadata": {
        "colab": {
          "base_uri": "https://localhost:8080/"
        },
        "id": "zcsNweaoKfO7",
        "outputId": "a0af8a73-7c01-4f33-d3fb-4e2b66b350d6"
      },
      "execution_count": 135,
      "outputs": [
        {
          "output_type": "execute_result",
          "data": {
            "text/plain": [
              "300"
            ]
          },
          "metadata": {},
          "execution_count": 135
        }
      ]
    },
    {
      "cell_type": "code",
      "source": [
        "import numpy as np"
      ],
      "metadata": {
        "id": "grsQUxAYMI1L"
      },
      "execution_count": 21,
      "outputs": []
    },
    {
      "cell_type": "code",
      "source": [
        "embedding_a = terms_emb['data'][0]['embedding']\n",
        "embedding_b = text_pair_emb['data'][0]['embedding']\n",
        "np.dot(embedding_a, embedding_b)"
      ],
      "metadata": {
        "colab": {
          "base_uri": "https://localhost:8080/"
        },
        "id": "pJhJ-pt2LDbD",
        "outputId": "c6c46ac6-7518-42bd-d550-b4570033909e"
      },
      "execution_count": 103,
      "outputs": [
        {
          "output_type": "execute_result",
          "data": {
            "text/plain": [
              "0.7546026551915956"
            ]
          },
          "metadata": {},
          "execution_count": 103
        }
      ]
    },
    {
      "cell_type": "code",
      "source": [
        "import time\n",
        "\n",
        "def compute_dot_products(\n",
        "    pair_emb: dict,\n",
        "    terms_emb: dict,\n",
        "    splitted_text: list,\n",
        "    standardised_terms: list,\n",
        "    threshold: float = 0.85\n",
        "    ) -> list:\n",
        "  final_pairs = {}\n",
        "\n",
        "  start_time = time.time()\n",
        "\n",
        "  for i in range(len(splitted_text)):\n",
        "    for j in range(len(standardised_terms)):\n",
        "      pair_emb_i = pair_emb['data'][i]['embedding']\n",
        "      terms_emb_j = terms_emb['data'][j]['embedding']\n",
        "      dot_product = np.dot(pair_emb_i, terms_emb_j)\n",
        "\n",
        "      if dot_product > threshold:\n",
        "        final_pairs[splitted_text[i]] = [standardised_terms[j], dot_product]\n",
        "\n",
        "  end_time = time.time()\n",
        "  execution_time = end_time - start_time\n",
        "\n",
        "  return final_pairs, execution_time\n"
      ],
      "metadata": {
        "id": "uA7JBy4FRr96"
      },
      "execution_count": 116,
      "outputs": []
    },
    {
      "cell_type": "code",
      "source": [
        "result = compute_dot_products(\n",
        "    pair_emb=text_pair_emb,\n",
        "    terms_emb=terms_emb,\n",
        "    splitted_text=splitted_text,\n",
        "    standardised_terms=standardised_terms,\n",
        "    threshold=0.85\n",
        "    )\n",
        "\n",
        "final_pairs, time_spent = zip(result)\n",
        "\n",
        "print(final_pairs[0])\n",
        "print(\"Execution time:\", time_spent[0], \"seconds\")"
      ],
      "metadata": {
        "colab": {
          "base_uri": "https://localhost:8080/"
        },
        "id": "X49HuRtUTpfw",
        "outputId": "170f5e73-a005-4931-bde6-d2e6a1529028"
      },
      "execution_count": 136,
      "outputs": [
        {
          "output_type": "stream",
          "name": "stdout",
          "text": [
            "{'terms of performance': ['Optimal performance', 0.8615814624019358], 'of performance': ['Optimal performance', 0.892997306396373], 'make good use': ['Utilise resources', 0.8677328491585122], 'be more efficient': ['Enhance productivity', 0.8589709161108788], 'Growth is': ['Drive growth', 0.8659110568396847]}\n",
            "Execution time: 4.222826957702637 seconds\n"
          ]
        }
      ]
    }
  ]
}